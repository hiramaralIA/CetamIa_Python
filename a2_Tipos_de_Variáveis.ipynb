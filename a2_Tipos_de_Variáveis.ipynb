{
  "cells": [
    {
      "cell_type": "markdown",
      "metadata": {
        "id": "view-in-github",
        "colab_type": "text"
      },
      "source": [
        "<a href=\"https://colab.research.google.com/github/hiramaralIA/CetamIa_Python/blob/main/a2_Tipos_de_Vari%C3%A1veis.ipynb\" target=\"_parent\"><img src=\"https://colab.research.google.com/assets/colab-badge.svg\" alt=\"Open In Colab\"/></a>"
      ]
    },
    {
      "cell_type": "markdown",
      "metadata": {
        "id": "RtwghhMQbUDz"
      },
      "source": [
        "# Tipos de Variáveis em Python"
      ]
    },
    {
      "cell_type": "markdown",
      "metadata": {
        "id": "bYMTM8AdbUD5"
      },
      "source": [
        "Uma variável é um objeto, afinal tudo é um objeto em Python\n",
        "\n",
        "int -> inteiro<br>\n",
        "string -> texto<br>\n",
        "float -> números com casas decimais (ponto flutuante)<br>\n",
        "bool ou boolean -> True ou False<br>\n",
        "\n",
        "Obs: Variáveis em Python não são declaradas explicitamente, mas isso não significa que você deve ficar mudando o tempo todo\n",
        "\n",
        "Obs2: Cuidado com os nomes restritos (arquivo para Download)"
      ]
    },
    {
      "cell_type": "code",
      "execution_count": null,
      "metadata": {
        "id": "g-P2tNkrbUD7",
        "outputId": "ed88161a-9e68-4ba8-b622-3eb090396e35"
      },
      "outputs": [
        {
          "data": {
            "text/plain": [
              "int"
            ]
          },
          "execution_count": 1,
          "metadata": {},
          "output_type": "execute_result"
        }
      ],
      "source": [
        "faturamento = 1000\n",
        "type(faturamento)"
      ]
    },
    {
      "cell_type": "code",
      "execution_count": null,
      "metadata": {
        "id": "fQ94YdmtbUD-",
        "outputId": "e9e32066-5160-45ae-9b87-1e4a0b98aa7c"
      },
      "outputs": [
        {
          "data": {
            "text/plain": [
              "float"
            ]
          },
          "execution_count": 2,
          "metadata": {},
          "output_type": "execute_result"
        }
      ],
      "source": [
        "faturamento = 1000.00\n",
        "type(faturamento)"
      ]
    },
    {
      "cell_type": "code",
      "execution_count": null,
      "metadata": {
        "id": "G8_NsL1AbUD_",
        "outputId": "289012db-5099-4555-a229-c84b1607f321"
      },
      "outputs": [
        {
          "data": {
            "text/plain": [
              "str"
            ]
          },
          "execution_count": 3,
          "metadata": {},
          "output_type": "execute_result"
        }
      ],
      "source": [
        "faturamento = '1.000'\n",
        "type(faturamento)"
      ]
    },
    {
      "cell_type": "code",
      "execution_count": null,
      "metadata": {
        "id": "1uRq7D_bbUD_",
        "outputId": "fddb122d-44c8-4179-826b-e12b01c541c3"
      },
      "outputs": [
        {
          "data": {
            "text/plain": [
              "bool"
            ]
          },
          "execution_count": 4,
          "metadata": {},
          "output_type": "execute_result"
        }
      ],
      "source": [
        "ganha_bonus = True\n",
        "type(ganha_bonus)"
      ]
    },
    {
      "cell_type": "code",
      "execution_count": null,
      "metadata": {
        "id": "o5YlEp8sbUEA"
      },
      "outputs": [],
      "source": [
        ""
      ]
    }
  ],
  "metadata": {
    "kernelspec": {
      "display_name": "Python 3",
      "language": "python",
      "name": "python3"
    },
    "language_info": {
      "codemirror_mode": {
        "name": "ipython",
        "version": 3
      },
      "file_extension": ".py",
      "mimetype": "text/x-python",
      "name": "python",
      "nbconvert_exporter": "python",
      "pygments_lexer": "ipython3",
      "version": "3.8.3"
    },
    "colab": {
      "name": "a2_Tipos de Variáveis.ipynb",
      "provenance": [],
      "collapsed_sections": [],
      "include_colab_link": true
    }
  },
  "nbformat": 4,
  "nbformat_minor": 0
}
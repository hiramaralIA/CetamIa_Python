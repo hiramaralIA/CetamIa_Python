{
 "cells": [
  {
   "cell_type": "markdown",
   "id": "f36b98fe",
   "metadata": {},
   "source": [
    "# Trabalha com variáveis\n",
    "Nome dado para algum valor especifico:\n",
    "\n",
    "SE precisarmos registrar a quantidade de vendas do mês de determinada empresa, e depois calcular o faturamento total. "
   ]
  },
  {
   "cell_type": "code",
   "execution_count": 1,
   "id": "e0d7ba77",
   "metadata": {},
   "outputs": [
    {
     "name": "stdout",
     "output_type": "stream",
     "text": [
      "21500\n"
     ]
    }
   ],
   "source": [
    "qte_vendida = 21500\n",
    "\n",
    "print(qte_vendida)"
   ]
  },
  {
   "cell_type": "code",
   "execution_count": 2,
   "id": "a7864ee6",
   "metadata": {},
   "outputs": [
    {
     "name": "stdout",
     "output_type": "stream",
     "text": [
      "9500\n"
     ]
    }
   ],
   "source": [
    "qte_vendida = 9500\n",
    "\n",
    "print(qte_vendida)"
   ]
  },
  {
   "cell_type": "code",
   "execution_count": 3,
   "id": "4a4b4320",
   "metadata": {},
   "outputs": [
    {
     "data": {
      "text/plain": [
       "9500"
      ]
     },
     "execution_count": 3,
     "metadata": {},
     "output_type": "execute_result"
    }
   ],
   "source": [
    "qte_vendida"
   ]
  },
  {
   "cell_type": "code",
   "execution_count": 4,
   "id": "d1b2a61d",
   "metadata": {},
   "outputs": [
    {
     "name": "stdout",
     "output_type": "stream",
     "text": [
      "Hiram\n",
      "9500\n"
     ]
    }
   ],
   "source": [
    "nome = \"Hiram\"\n",
    "print(nome)\n",
    "print(qte_vendida)"
   ]
  },
  {
   "cell_type": "code",
   "execution_count": 5,
   "id": "be989f8e",
   "metadata": {},
   "outputs": [
    {
     "name": "stdout",
     "output_type": "stream",
     "text": [
      "Hiram vendeu  9500 este mês\n"
     ]
    }
   ],
   "source": [
    "print (\"Hiram vendeu \", qte_vendida, \"este mês\")"
   ]
  },
  {
   "cell_type": "markdown",
   "id": "dd17d9b7",
   "metadata": {},
   "source": [
    "# Erro com variáveis\n",
    "célula não executada"
   ]
  },
  {
   "cell_type": "code",
   "execution_count": 6,
   "id": "12cbd1c7",
   "metadata": {},
   "outputs": [],
   "source": [
    "receita = 2500\n",
    "custo = 100"
   ]
  },
  {
   "cell_type": "code",
   "execution_count": 7,
   "id": "cfedc9f6",
   "metadata": {},
   "outputs": [
    {
     "name": "stdout",
     "output_type": "stream",
     "text": [
      "2400\n"
     ]
    }
   ],
   "source": [
    "lucro = receita - custo\n",
    "print(lucro)"
   ]
  },
  {
   "cell_type": "code",
   "execution_count": 10,
   "id": "02d07c3d",
   "metadata": {},
   "outputs": [],
   "source": [
    "receita = 12500\n",
    "custo = 2900"
   ]
  },
  {
   "cell_type": "code",
   "execution_count": 11,
   "id": "60c08203",
   "metadata": {},
   "outputs": [
    {
     "name": "stdout",
     "output_type": "stream",
     "text": [
      "9600\n"
     ]
    }
   ],
   "source": [
    "lucro = receita-custo\n",
    "print(lucro)"
   ]
  },
  {
   "cell_type": "markdown",
   "id": "d648d8cc",
   "metadata": {},
   "source": [
    "# Pegando informações do usuário\n",
    "usando o input e armazenando na memoria"
   ]
  },
  {
   "cell_type": "code",
   "execution_count": 12,
   "id": "fb425cea",
   "metadata": {},
   "outputs": [
    {
     "name": "stdout",
     "output_type": "stream",
     "text": [
      " Qual o nome de sua escola?CETAM\n",
      "CETAM\n"
     ]
    }
   ],
   "source": [
    "nome = input(\" Qual o nome de sua escola?\")\n",
    "print(nome)"
   ]
  },
  {
   "cell_type": "code",
   "execution_count": 23,
   "id": "1ef44e7f",
   "metadata": {},
   "outputs": [
    {
     "name": "stdout",
     "output_type": "stream",
     "text": [
      "Digite o seu primeiro nome? Hiram\n",
      "qual o seu sobrenome? Amaral\n",
      "seu nome completo é Hiram Amaral\n"
     ]
    }
   ],
   "source": [
    "nome = input(\"Digite o seu primeiro nome? \")\n",
    "sobrenome = input(\"qual o seu sobrenome? \")\n",
    "\n",
    "print(\"seu nome completo é \" + nome  + ' ' +  sobrenome)"
   ]
  },
  {
   "cell_type": "code",
   "execution_count": 25,
   "id": "447e9ea5",
   "metadata": {},
   "outputs": [
    {
     "name": "stdout",
     "output_type": "stream",
     "text": [
      " Qual a primeira mensagem?eu \n",
      " Qual a mensagem 2?vou \n",
      "Fale a mensagem3 vencer\n",
      "eu  vou  vencer\n"
     ]
    }
   ],
   "source": [
    "mensagem1 = input(\" Qual a primeira mensagem?\")\n",
    "\n",
    "mensagem2 = input(\" Qual a mensagem 2?\")\n",
    "\n",
    "mensagem3 = input(\"Fale a mensagem3 \")\n",
    "\n",
    "print(mensagem1 + \" \" + mensagem2 +\" \" + mensagem3)\n"
   ]
  },
  {
   "cell_type": "markdown",
   "id": "9599ec29",
   "metadata": {},
   "source": [
    "# Erro com input\n",
    "se travar, use Kernel/ Restart"
   ]
  },
  {
   "cell_type": "code",
   "execution_count": 1,
   "id": "d171633e",
   "metadata": {},
   "outputs": [
    {
     "name": "stdout",
     "output_type": "stream",
     "text": [
      " Insira o faturamento da empresa: 133\n",
      "insira o custo da empresa: 677\n"
     ]
    }
   ],
   "source": [
    "receita = input (\" Insira o faturamento da empresa: \")\n",
    "custo = input(\"insira o custo da empresa: \")"
   ]
  }
 ],
 "metadata": {
  "kernelspec": {
   "display_name": "Python 3 (ipykernel)",
   "language": "python",
   "name": "python3"
  },
  "language_info": {
   "codemirror_mode": {
    "name": "ipython",
    "version": 3
   },
   "file_extension": ".py",
   "mimetype": "text/x-python",
   "name": "python",
   "nbconvert_exporter": "python",
   "pygments_lexer": "ipython3",
   "version": "3.9.7"
  }
 },
 "nbformat": 4,
 "nbformat_minor": 5
}

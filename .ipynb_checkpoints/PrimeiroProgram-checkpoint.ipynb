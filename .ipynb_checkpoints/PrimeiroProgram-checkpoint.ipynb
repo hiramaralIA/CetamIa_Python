{
 "cells": [
  {
   "cell_type": "markdown",
   "id": "b7855517",
   "metadata": {},
   "source": [
    "# Vamos escrever qualquer coisa em nosso Hello World\n",
    "\n",
    "Dois atalhos\n",
    "\n",
    "ctrl + enter - executa o código\n",
    "\n",
    "shift + enter - cria novas células"
   ]
  },
  {
   "cell_type": "code",
   "execution_count": 1,
   "id": "b8e206eb",
   "metadata": {},
   "outputs": [
    {
     "name": "stdout",
     "output_type": "stream",
     "text": [
      "Olá\n"
     ]
    }
   ],
   "source": [
    "print(\"Olá\")"
   ]
  },
  {
   "cell_type": "markdown",
   "id": "63a43e10",
   "metadata": {},
   "source": [
    "Para deletar use file/delete Cells"
   ]
  },
  {
   "cell_type": "markdown",
   "id": "140cb8ad",
   "metadata": {},
   "source": [
    "Vamos padronizar com as \"\" para nosso curso"
   ]
  },
  {
   "cell_type": "code",
   "execution_count": null,
   "id": "71194b07",
   "metadata": {},
   "outputs": [],
   "source": []
  }
 ],
 "metadata": {
  "kernelspec": {
   "display_name": "Python 3 (ipykernel)",
   "language": "python",
   "name": "python3"
  },
  "language_info": {
   "codemirror_mode": {
    "name": "ipython",
    "version": 3
   },
   "file_extension": ".py",
   "mimetype": "text/x-python",
   "name": "python",
   "nbconvert_exporter": "python",
   "pygments_lexer": "ipython3",
   "version": "3.9.7"
  }
 },
 "nbformat": 4,
 "nbformat_minor": 5
}

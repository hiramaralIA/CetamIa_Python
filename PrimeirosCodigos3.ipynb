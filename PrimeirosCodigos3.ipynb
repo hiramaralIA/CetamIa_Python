{
 "cells": [
  {
   "cell_type": "markdown",
   "id": "c64d813d",
   "metadata": {},
   "source": [
    "# Ordem das operações em Python\n",
    "# * /  +  -"
   ]
  },
  {
   "cell_type": "code",
   "execution_count": 1,
   "id": "d721cfb3",
   "metadata": {},
   "outputs": [
    {
     "name": "stdout",
     "output_type": "stream",
     "text": [
      "7\n"
     ]
    }
   ],
   "source": [
    "print(1+2*3)"
   ]
  },
  {
   "cell_type": "code",
   "execution_count": 2,
   "id": "4c02b81f",
   "metadata": {},
   "outputs": [
    {
     "name": "stdout",
     "output_type": "stream",
     "text": [
      "9\n"
     ]
    }
   ],
   "source": [
    "print((1+2)*3)"
   ]
  },
  {
   "cell_type": "markdown",
   "id": "b5f688cb",
   "metadata": {},
   "source": [
    "# Vamos trabalhar com Strings"
   ]
  },
  {
   "cell_type": "code",
   "execution_count": 3,
   "id": "e052cfd6",
   "metadata": {},
   "outputs": [
    {
     "name": "stdout",
     "output_type": "stream",
     "text": [
      " Estamos estudando para dominarmos IA \n"
     ]
    }
   ],
   "source": [
    "print(\" Estamos estudando para dominarmos IA \")"
   ]
  },
  {
   "cell_type": "code",
   "execution_count": 5,
   "id": "f61b6997",
   "metadata": {},
   "outputs": [
    {
     "name": "stdout",
     "output_type": "stream",
     "text": [
      " Estamos estudando para dominarmos IA \n"
     ]
    }
   ],
   "source": [
    "print(\" Estamos estudando para dominarmos IA \")"
   ]
  },
  {
   "cell_type": "code",
   "execution_count": 6,
   "id": "9ff1c83e",
   "metadata": {},
   "outputs": [
    {
     "name": "stdout",
     "output_type": "stream",
     "text": [
      " Meu nome é  Hiram Amaral\n"
     ]
    }
   ],
   "source": [
    "print(\" Meu nome é \" + \" Hiram Amaral\")"
   ]
  },
  {
   "cell_type": "code",
   "execution_count": 7,
   "id": "573f4dfe",
   "metadata": {},
   "outputs": [
    {
     "name": "stdout",
     "output_type": "stream",
     "text": [
      "False\n"
     ]
    }
   ],
   "source": [
    "print(\" Meu nome é \" in \" Hiram Amaral\")"
   ]
  },
  {
   "cell_type": "code",
   "execution_count": 8,
   "id": "83f16a85",
   "metadata": {},
   "outputs": [
    {
     "name": "stdout",
     "output_type": "stream",
     "text": [
      " Meu nome é Hiram Carlos Amaral  Hiram Amaral\n"
     ]
    }
   ],
   "source": [
    "print(\" Meu nome é Hiram Carlos Amaral \" + \" Hiram Amaral\")"
   ]
  },
  {
   "cell_type": "code",
   "execution_count": 9,
   "id": "ec35b55f",
   "metadata": {},
   "outputs": [
    {
     "name": "stdout",
     "output_type": "stream",
     "text": [
      " Meu nome é Hiram  Amaral\n"
     ]
    }
   ],
   "source": [
    "print(\" Meu nome é Hiram \" + \" Amaral\")"
   ]
  },
  {
   "cell_type": "code",
   "execution_count": 12,
   "id": "66105d59",
   "metadata": {},
   "outputs": [
    {
     "name": "stdout",
     "output_type": "stream",
     "text": [
      "False\n"
     ]
    }
   ],
   "source": [
    "print(' m'  in ' Hiram Amaral')"
   ]
  },
  {
   "cell_type": "code",
   "execution_count": 13,
   "id": "26b931bc",
   "metadata": {},
   "outputs": [
    {
     "name": "stdout",
     "output_type": "stream",
     "text": [
      "True\n"
     ]
    }
   ],
   "source": [
    "print('m'  in ' Hiram Amaral')"
   ]
  },
  {
   "cell_type": "code",
   "execution_count": 14,
   "id": "d0f3b38d",
   "metadata": {},
   "outputs": [
    {
     "name": "stdout",
     "output_type": "stream",
     "text": [
      "False\n"
     ]
    }
   ],
   "source": [
    "print(\"CETAM\" in \"cetam é Amazonas\")"
   ]
  },
  {
   "cell_type": "code",
   "execution_count": 15,
   "id": "266bc5a6",
   "metadata": {},
   "outputs": [
    {
     "name": "stdout",
     "output_type": "stream",
     "text": [
      "True\n"
     ]
    }
   ],
   "source": [
    "print('CETAM'  in ' CETAM é Amazonas')"
   ]
  },
  {
   "cell_type": "code",
   "execution_count": 16,
   "id": "34b5f143",
   "metadata": {},
   "outputs": [
    {
     "name": "stdout",
     "output_type": "stream",
     "text": [
      "True\n"
     ]
    }
   ],
   "source": [
    "print(\"alunocetam22\" in \"estamos juntos com alunocetam22\")"
   ]
  },
  {
   "cell_type": "code",
   "execution_count": null,
   "id": "4803a9a6",
   "metadata": {},
   "outputs": [],
   "source": []
  }
 ],
 "metadata": {
  "kernelspec": {
   "display_name": "Python 3 (ipykernel)",
   "language": "python",
   "name": "python3"
  },
  "language_info": {
   "codemirror_mode": {
    "name": "ipython",
    "version": 3
   },
   "file_extension": ".py",
   "mimetype": "text/x-python",
   "name": "python",
   "nbconvert_exporter": "python",
   "pygments_lexer": "ipython3",
   "version": "3.9.7"
  }
 },
 "nbformat": 4,
 "nbformat_minor": 5
}

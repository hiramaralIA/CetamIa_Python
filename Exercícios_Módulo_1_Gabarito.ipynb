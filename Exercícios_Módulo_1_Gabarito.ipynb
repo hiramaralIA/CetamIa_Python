{
  "cells": [
    {
      "cell_type": "markdown",
      "metadata": {
        "id": "view-in-github",
        "colab_type": "text"
      },
      "source": [
        "<a href=\"https://colab.research.google.com/github/hiramaralIA/CetamIa_Python/blob/main/Exerc%C3%ADcios_M%C3%B3dulo_1_Gabarito.ipynb\" target=\"_parent\"><img src=\"https://colab.research.google.com/assets/colab-badge.svg\" alt=\"Open In Colab\"/></a>"
      ]
    },
    {
      "cell_type": "markdown",
      "metadata": {
        "id": "cPKGhYUs6t7b"
      },
      "source": [
        "# Exercícios do Módulo 1 - Operações, Variáveis e Input"
      ]
    },
    {
      "cell_type": "markdown",
      "metadata": {
        "id": "-f17jusw6t7f"
      },
      "source": [
        "### Parte 1 - Operações e Variáveis\n",
        "Crie um programa que imprima (print) os principais indicadores da loja Hashtag&Drink no último ano.\n",
        "Obs: faça tudo usando variáveis.\n",
        "\n",
        "Valores do último ano:\n",
        "\n",
        "Quantidade de Vendas de Coca = 150<br>\n",
        "Quantidade de Vendas de Pepsi = 130<br>\n",
        "Preço Unitário da Coca = 1,50 <br>\n",
        "Preço Unitário da Pepsi = 1,50 <br>\n",
        "Custo da Loja: 2.500,00\n",
        "\n",
        "Use o bloco abaixo para criar todas as variáveis que precisar."
      ]
    },
    {
      "cell_type": "code",
      "execution_count": null,
      "metadata": {
        "id": "F5aB6DoW6t7f"
      },
      "outputs": [],
      "source": [
        "qtde_coca = 150\n",
        "qtde_pepsi = 130\n",
        "preco_coca = 1.50\n",
        "preco_pepsi = 1.50\n",
        "custo = 2500"
      ]
    },
    {
      "cell_type": "markdown",
      "metadata": {
        "id": "79sloyhq6t7h"
      },
      "source": [
        "1. Qual foi o faturamento de Pepsi da Loja?"
      ]
    },
    {
      "cell_type": "code",
      "execution_count": null,
      "metadata": {
        "id": "HnUtQyqA6t7h",
        "outputId": "a947a27b-f4eb-4d67-d4f7-9c50419ccc54"
      },
      "outputs": [
        {
          "name": "stdout",
          "output_type": "stream",
          "text": [
            "195.0\n"
          ]
        }
      ],
      "source": [
        "print(qtde_pepsi * preco_pepsi)"
      ]
    },
    {
      "cell_type": "markdown",
      "metadata": {
        "id": "rlvOEkUW6t7i"
      },
      "source": [
        "2. Qual foi o faturamento de Coca da Loja?"
      ]
    },
    {
      "cell_type": "code",
      "execution_count": null,
      "metadata": {
        "id": "1uPvVVKf6t7i",
        "outputId": "e55c6084-0275-4e27-e3c0-b3f68612b762"
      },
      "outputs": [
        {
          "name": "stdout",
          "output_type": "stream",
          "text": [
            "225.0\n"
          ]
        }
      ],
      "source": [
        "print(qtde_coca * preco_coca)"
      ]
    },
    {
      "cell_type": "markdown",
      "metadata": {
        "id": "r1dywp-z6t7j"
      },
      "source": [
        "3. Qual foi o Lucro da loja?"
      ]
    },
    {
      "cell_type": "code",
      "execution_count": null,
      "metadata": {
        "id": "uvWNSlWW6t7j",
        "outputId": "e9dd4264-41b9-428a-ea38-ceec43ef2e87"
      },
      "outputs": [
        {
          "name": "stdout",
          "output_type": "stream",
          "text": [
            "-2080.0\n"
          ]
        }
      ],
      "source": [
        "faturamento = qtde_coca * preco_coca + qtde_pepsi * preco_pepsi\n",
        "lucro = faturamento - custo\n",
        "print(lucro)"
      ]
    },
    {
      "cell_type": "markdown",
      "metadata": {
        "id": "bL_jJHCc6t7k"
      },
      "source": [
        "4. Qual foi a Margem da Loja? (Lembre-se, margem = Lucro / Faturamento). Não precisa formatar em percentual"
      ]
    },
    {
      "cell_type": "code",
      "execution_count": null,
      "metadata": {
        "id": "eYW97aWf6t7k",
        "outputId": "6e24fe87-7da7-4e10-9e52-9a4031e984f7"
      },
      "outputs": [
        {
          "name": "stdout",
          "output_type": "stream",
          "text": [
            "-4.9523809523809526\n"
          ]
        }
      ],
      "source": [
        "print(lucro / faturamento)"
      ]
    },
    {
      "cell_type": "markdown",
      "metadata": {
        "id": "okg6Ghov6t7l"
      },
      "source": [
        "### Parte 2 - Inputs e Strings"
      ]
    },
    {
      "cell_type": "markdown",
      "metadata": {
        "id": "k_FRooJH6t7l"
      },
      "source": [
        "A maioria das empresas trabalham com um Código para cada produto que possuem. A Hashtag&Drink, por exemplo, tem mais de 1.000 produtos e possui um código para cada produto.\n",
        "Ex: <br>\n",
        "Coca -> Código: BEB1300543<br>\n",
        "Pepsi -> Código: BEB1300545<br>\n",
        "Vinho Primitivo Lucarelli -> Código: BAC1546001<br>\n",
        "Vodka Smirnoff -> Código: BAC17675002<br>\n",
        "\n",
        "Repare que todas as bebidas não alcóolicas tem o início do Código \"BEB\" e todas as bebidas alcóolicas tem o início do código \"BAC\".\n",
        "\n",
        "Crie um programa de consulta de bebida que, dado um código qualquer, identifique se a bebida é alcóolica. O programa deve responder True para bebidas alcóolicas e False para bebidas não alcóolicas. Para inserir um código, use um input.\n",
        "\n",
        "Dica: Lembre-se do comando in para strings e sempre insira os códigos com letra maiúscula para facilitar."
      ]
    },
    {
      "cell_type": "code",
      "execution_count": null,
      "metadata": {
        "id": "Rt-p8LXn6t7l",
        "outputId": "611662aa-6ace-40ab-babd-25c2cc68b35c"
      },
      "outputs": [
        {
          "name": "stdout",
          "output_type": "stream",
          "text": [
            "Qual é o código da bebida? (Insira tudo em letra maiúscula):BAC1546001\n",
            "True\n"
          ]
        }
      ],
      "source": [
        "codigo = input(\"Qual é o código da bebida? (Insira tudo em letra maiúscula):\")\n",
        "print(\"BAC\" in codigo)"
      ]
    }
  ],
  "metadata": {
    "kernelspec": {
      "display_name": "Python 3",
      "language": "python",
      "name": "python3"
    },
    "language_info": {
      "codemirror_mode": {
        "name": "ipython",
        "version": 3
      },
      "file_extension": ".py",
      "mimetype": "text/x-python",
      "name": "python",
      "nbconvert_exporter": "python",
      "pygments_lexer": "ipython3",
      "version": "3.8.3"
    },
    "colab": {
      "name": "Exercícios Módulo 1 - Gabarito.ipynb",
      "provenance": [],
      "include_colab_link": true
    }
  },
  "nbformat": 4,
  "nbformat_minor": 0
}
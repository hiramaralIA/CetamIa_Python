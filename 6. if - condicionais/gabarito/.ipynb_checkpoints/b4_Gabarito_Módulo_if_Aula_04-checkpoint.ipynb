{
 "cells": [
  {
   "cell_type": "markdown",
   "metadata": {
    "colab_type": "text",
    "id": "view-in-github"
   },
   "source": [
    "<a href=\"https://colab.research.google.com/github/hiramaralIA/CetamIa_Python/blob/main/b4_Gabarito_M%C3%B3dulo_if_Aula_04.ipynb\" target=\"_parent\"><img src=\"https://colab.research.google.com/assets/colab-badge.svg\" alt=\"Open In Colab\"/></a>"
   ]
  },
  {
   "cell_type": "markdown",
   "metadata": {
    "id": "b8Ck3Y4pl_ka"
   },
   "source": [
    "# Comparadores"
   ]
  },
  {
   "cell_type": "raw",
   "metadata": {
    "id": "2_kn2mHyl_ke"
   },
   "source": [
    "==    igual\n",
    "!=    diferente\n",
    ">     maior que (>= maior ou igual)\n",
    "<     menor que (<= menor ou igual)\n",
    "in    texto existe dentro de outro texto \n",
    "not   verifica o contrário da comparação\n",
    "\n",
    "Obs: Se em alguma condição você não quiser fazer nada, você pode simplesmente escrever:\n",
    "pass"
   ]
  },
  {
   "cell_type": "code",
   "execution_count": 2,
   "metadata": {
    "id": "lJqvTshwl_kf",
    "outputId": "e159d993-051f-49a0-e3b5-c679aa9b728f"
   },
   "outputs": [
    {
     "name": "stdout",
     "output_type": "stream",
     "text": [
      "Programa 1\n",
      "Os faturamentos são diferentes\n"
     ]
    }
   ],
   "source": [
    "faturamento_loja_1 = 2500\n",
    "faturamento_loja_2 = 2200\n",
    "email = \"hiramgmail.com\"\n",
    "\n",
    "print('Programa 1')\n",
    "if faturamento_loja_1 == faturamento_loja_2:\n",
    "    print('Os faturamentos são iguais')\n",
    "else:\n",
    "    print('Os faturamentos são diferentes')\n"
   ]
  },
  {
   "cell_type": "code",
   "execution_count": 1,
   "metadata": {
    "id": "sOVaUwtdl_kj",
    "outputId": "790f0ac7-49be-4b50-af08-d73bc138e978"
   },
   "outputs": [
    {
     "name": "stdout",
     "output_type": "stream",
     "text": [
      "Programa 2\n"
     ]
    },
    {
     "ename": "NameError",
     "evalue": "name 'email' is not defined",
     "output_type": "error",
     "traceback": [
      "\u001b[1;31m---------------------------------------------------------------------------\u001b[0m",
      "\u001b[1;31mNameError\u001b[0m                                 Traceback (most recent call last)",
      "\u001b[1;32m~\\AppData\\Local\\Temp/ipykernel_4748/1024058223.py\u001b[0m in \u001b[0;36m<module>\u001b[1;34m\u001b[0m\n\u001b[0;32m      1\u001b[0m \u001b[0mprint\u001b[0m\u001b[1;33m(\u001b[0m\u001b[1;34m'Programa 2'\u001b[0m\u001b[1;33m)\u001b[0m\u001b[1;33m\u001b[0m\u001b[1;33m\u001b[0m\u001b[0m\n\u001b[1;32m----> 2\u001b[1;33m \u001b[1;32mif\u001b[0m \u001b[0memail\u001b[0m \u001b[1;33m!=\u001b[0m \u001b[1;34m'hiram@gmail.com'\u001b[0m\u001b[1;33m:\u001b[0m\u001b[1;33m\u001b[0m\u001b[1;33m\u001b[0m\u001b[0m\n\u001b[0m\u001b[0;32m      3\u001b[0m     \u001b[0mprint\u001b[0m\u001b[1;33m(\u001b[0m\u001b[1;34m'Esse não é o email do Lira'\u001b[0m\u001b[1;33m)\u001b[0m\u001b[1;33m\u001b[0m\u001b[1;33m\u001b[0m\u001b[0m\n\u001b[0;32m      4\u001b[0m \u001b[1;32melse\u001b[0m\u001b[1;33m:\u001b[0m\u001b[1;33m\u001b[0m\u001b[1;33m\u001b[0m\u001b[0m\n\u001b[0;32m      5\u001b[0m     \u001b[0mprint\u001b[0m\u001b[1;33m(\u001b[0m\u001b[1;34m'Email errado'\u001b[0m\u001b[1;33m)\u001b[0m\u001b[1;33m\u001b[0m\u001b[1;33m\u001b[0m\u001b[0m\n",
      "\u001b[1;31mNameError\u001b[0m: name 'email' is not defined"
     ]
    }
   ],
   "source": [
    "print('Programa 2')\n",
    "if email != 'hiram@gmail.com':\n",
    "    print('Esse não é o email do Lira')\n",
    "else:\n",
    "    print('Email errado')"
   ]
  },
  {
   "cell_type": "code",
   "execution_count": null,
   "metadata": {
    "id": "ddG6BnoBl_kk",
    "outputId": "0d8118e9-5ec0-4603-8d80-a81e8438c8b5",
    "scrolled": true
   },
   "outputs": [
    {
     "name": "stdout",
     "output_type": "stream",
     "text": [
      "Programa 3\n",
      "Insira seu e-mail:lira@gmail.com\n"
     ]
    }
   ],
   "source": [
    "print('Programa 3')\n",
    "email_usuario = input('Insira seu e-mail:')\n",
    "if not '@' in email_usuario:\n",
    "    print('Email Inválido')\n",
    "else:\n",
    "    pass"
   ]
  }
 ],
 "metadata": {
  "colab": {
   "include_colab_link": true,
   "name": "Gabarito - Módulo if - Aula 04.ipynb",
   "provenance": []
  },
  "kernelspec": {
   "display_name": "Python 3 (ipykernel)",
   "language": "python",
   "name": "python3"
  },
  "language_info": {
   "codemirror_mode": {
    "name": "ipython",
    "version": 3
   },
   "file_extension": ".py",
   "mimetype": "text/x-python",
   "name": "python",
   "nbconvert_exporter": "python",
   "pygments_lexer": "ipython3",
   "version": "3.9.7"
  }
 },
 "nbformat": 4,
 "nbformat_minor": 1
}

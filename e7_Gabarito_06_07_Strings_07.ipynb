{
  "cells": [
    {
      "cell_type": "markdown",
      "metadata": {
        "id": "view-in-github",
        "colab_type": "text"
      },
      "source": [
        "<a href=\"https://colab.research.google.com/github/hiramaralIA/CetamIa_Python/blob/main/e7_Gabarito_06_07_Strings_07.ipynb\" target=\"_parent\"><img src=\"https://colab.research.google.com/assets/colab-badge.svg\" alt=\"Open In Colab\"/></a>"
      ]
    },
    {
      "cell_type": "markdown",
      "metadata": {
        "id": "QM0TOSr2OfjM"
      },
      "source": [
        "# Format - Aula de Consulta\n",
        "\n",
        "### Como usar o format para criar formatações personalizadas em prints e textos."
      ]
    },
    {
      "cell_type": "raw",
      "metadata": {
        "id": "Q_357cvEOfjP"
      },
      "source": [
        ":<\t\tAlinha o texto à esquerda (se tiver espaço na tela para isso)\n",
        ":>\t\tAlinha o texto à direita (se tiver espaço na tela para isso)\n",
        ":^\t\tAlinha o texto ao centro (se tiver espaço na tela para isso)\n",
        ":+\t\tColoca o sinal sempre na frente do número (independente se é positivo ou negativo)\n",
        ":,\t\tColoca a vírgula como separador de milhar\n",
        ":_\t\tColoca o _ como separador de milhar\n",
        ":e\t\tFormato Científico\n",
        ":f\t\tNúmero com quantidade fixa de casas decimais\n",
        ":x\t\tFormato HEX minúscula (para cores)\n",
        ":X\t\tFormato HEX maiúscula (para cores)\n",
        ":%\t\tFormato Percentual"
      ]
    },
    {
      "cell_type": "markdown",
      "metadata": {
        "id": "xLbsfXusOfjQ"
      },
      "source": [
        "- Exemplo de Alinhamento"
      ]
    },
    {
      "cell_type": "code",
      "execution_count": null,
      "metadata": {
        "id": "M6k9xlQ6OfjR",
        "outputId": "f9b9d6aa-eda2-41ce-911f-66dff5ed4fdd"
      },
      "outputs": [
        {
          "name": "stdout",
          "output_type": "stream",
          "text": [
            "Meu e-mail não é                   lira@gmail.com                  , show?\n"
          ]
        }
      ],
      "source": [
        "email = 'lira@gmail.com'\n",
        "print('Meu e-mail não é {:^50}, show?'.format(email))"
      ]
    },
    {
      "cell_type": "markdown",
      "metadata": {
        "id": "la6gZL8hOfjT"
      },
      "source": [
        "- Exemplo de Edição de Sinal"
      ]
    },
    {
      "cell_type": "code",
      "execution_count": null,
      "metadata": {
        "id": "GuhGwETSOfjU",
        "outputId": "f8f2ca64-b789-4837-9a6e-7189c6d7c4ce"
      },
      "outputs": [
        {
          "name": "stdout",
          "output_type": "stream",
          "text": [
            "Faturamento foi +270 e lucro foi -230\n"
          ]
        }
      ],
      "source": [
        "custo = 500\n",
        "faturamento = 270\n",
        "lucro = faturamento - custo\n",
        "print('Faturamento foi {:+} e lucro foi {:+}'.format(faturamento, lucro))"
      ]
    },
    {
      "cell_type": "markdown",
      "metadata": {
        "id": "H3dsQ2ilOfjU"
      },
      "source": [
        "- Exemplo de Separador de Milhar"
      ]
    },
    {
      "cell_type": "code",
      "execution_count": null,
      "metadata": {
        "id": "bz6DIpqTOfjV",
        "outputId": "f4a9e973-652b-477c-c533-832ebcb3b70b"
      },
      "outputs": [
        {
          "name": "stdout",
          "output_type": "stream",
          "text": [
            "Faturamento foi +2,700 e lucro foi -2,300\n"
          ]
        }
      ],
      "source": [
        "custo = 5000\n",
        "faturamento = 2700\n",
        "lucro = faturamento - custo\n",
        "print('Faturamento foi {:+,} e lucro foi {:+,}'.format(faturamento, lucro))"
      ]
    },
    {
      "cell_type": "markdown",
      "metadata": {
        "id": "Vaj4CdCVOfjW"
      },
      "source": [
        "- Formato com casas Decimais fixas"
      ]
    },
    {
      "cell_type": "code",
      "execution_count": null,
      "metadata": {
        "id": "9vdCIt_aOfjW",
        "outputId": "90f359a8-5928-4a63-db0e-3f0aa5f78bb0"
      },
      "outputs": [
        {
          "name": "stdout",
          "output_type": "stream",
          "text": [
            "Faturamento foi 270.00 e lucro foi -230.0\n"
          ]
        }
      ],
      "source": [
        "custo = 500\n",
        "faturamento = 270\n",
        "lucro = faturamento - custo\n",
        "print('Faturamento foi {:.2f} e lucro foi {:.1f}'.format(faturamento, lucro))"
      ]
    },
    {
      "cell_type": "markdown",
      "metadata": {
        "id": "Oh8Tgfc4OfjX"
      },
      "source": [
        "- Formato Percentual"
      ]
    },
    {
      "cell_type": "code",
      "execution_count": null,
      "metadata": {
        "id": "xMfEetxcOfjX",
        "outputId": "072dbb80-6052-46b2-c9df-c68b46fa3495"
      },
      "outputs": [
        {
          "name": "stdout",
          "output_type": "stream",
          "text": [
            "Margem de lucro foi de 61.54%\n"
          ]
        }
      ],
      "source": [
        "custo = 500\n",
        "faturamento = 1300\n",
        "lucro = faturamento - custo\n",
        "margem = lucro / faturamento\n",
        "print('Margem de lucro foi de {:.2%}'.format(margem))"
      ]
    },
    {
      "cell_type": "markdown",
      "metadata": {
        "id": "ekeF4eDmOfjY"
      },
      "source": [
        "- Formato Moeda -> Combinação de Formatos\n",
        "\n",
        "Existem módulos/bibliotecas que vão facilitar isso, caso a gente queira, mas vamos ver como usar módulos mais a frente do curso. Por enquanto, se você precisar, pode fazer substituições em string"
      ]
    },
    {
      "cell_type": "code",
      "execution_count": null,
      "metadata": {
        "id": "eMvyQ4gkOfjY",
        "outputId": "b9ee95bd-99f7-48a8-d9d1-e2decbb8e9b0"
      },
      "outputs": [
        {
          "name": "stdout",
          "output_type": "stream",
          "text": [
            "Faturamento foi R$27,000.00 e lucro foi R$22,000.00\n",
            "R$22.000,00\n"
          ]
        }
      ],
      "source": [
        "custo = 5000\n",
        "faturamento = 27000\n",
        "lucro = faturamento - custo\n",
        "print('Faturamento foi R${:,.2f} e lucro foi R${:,.2f}'.format(faturamento, lucro))\n",
        "\n",
        "#transformando no formato brasileiro\n",
        "lucro_texto = 'R${:_.2f}'.format(lucro)\n",
        "print(lucro_texto.replace('.', ',').replace('_', '.'))"
      ]
    },
    {
      "cell_type": "markdown",
      "metadata": {
        "id": "BXRzEIagOfjZ"
      },
      "source": [
        "- Função round() para arredondar números, caso seja necessário"
      ]
    },
    {
      "cell_type": "code",
      "execution_count": null,
      "metadata": {
        "id": "4zwOBYz5OfjZ",
        "outputId": "400c7c23-9d63-43e7-d902-1485cce880fc"
      },
      "outputs": [
        {
          "name": "stdout",
          "output_type": "stream",
          "text": [
            "Imposto sobre o preço é de 15.8\n"
          ]
        }
      ],
      "source": [
        "imposto = 0.15758\n",
        "preco = 100\n",
        "valor_imposto = round(preco * imposto, 1)\n",
        "print('Imposto sobre o preço é de {}'.format(valor_imposto))"
      ]
    }
  ],
  "metadata": {
    "kernelspec": {
      "display_name": "Python 3",
      "language": "python",
      "name": "python3"
    },
    "language_info": {
      "codemirror_mode": {
        "name": "ipython",
        "version": 3
      },
      "file_extension": ".py",
      "mimetype": "text/x-python",
      "name": "python",
      "nbconvert_exporter": "python",
      "pygments_lexer": "ipython3",
      "version": "3.8.3"
    },
    "colab": {
      "name": "Gabarito - 06.07 Strings 07.ipynb",
      "provenance": [],
      "include_colab_link": true
    }
  },
  "nbformat": 4,
  "nbformat_minor": 0
}
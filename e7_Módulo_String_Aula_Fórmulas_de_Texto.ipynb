{
  "cells": [
    {
      "cell_type": "markdown",
      "metadata": {
        "id": "view-in-github",
        "colab_type": "text"
      },
      "source": [
        "<a href=\"https://colab.research.google.com/github/hiramaralIA/CetamIa_Python/blob/main/e7_M%C3%B3dulo_String_Aula_F%C3%B3rmulas_de_Texto.ipynb\" target=\"_parent\"><img src=\"https://colab.research.google.com/assets/colab-badge.svg\" alt=\"Open In Colab\"/></a>"
      ]
    },
    {
      "cell_type": "markdown",
      "metadata": {
        "id": "em_R_NwSNUkQ"
      },
      "source": [
        "# \"Fórmulas\" de Texto - Métodos de String\n",
        "\n",
        "## Estrutura:\n",
        "\n",
        "- Normalmente usamos a estrutura texto.método() para fazer as modificações que queremos\n",
        "- Alguns métodos pedem \"argumentos\", que são informações que temos que passar para a fórmula (método) para ela funcionar. Esses argumentos são passados dentro do parênteses\n",
        "\n",
        "## Como usar:\n",
        "\n",
        "Não decore os métodos, os que você for mais usando com o tempo você vai decorar o que precisar.\n",
        "\n",
        "Mas a dica é: use essa lista para consulta e busque entender como os métodos funcionam e suas aplicações, para poder consultar e usar quando precisar."
      ]
    },
    {
      "cell_type": "markdown",
      "metadata": {
        "id": "q5SZl4_jNUkU"
      },
      "source": [
        "- capitalize() -> Coloca a 1ª letra Maiúscula"
      ]
    },
    {
      "cell_type": "raw",
      "metadata": {
        "id": "7RmFLnp9NUkU"
      },
      "source": [
        "    Uso: \n",
        "        texto = 'lira'\n",
        "        print(texto.capitalize())\n",
        "    Resultado: \n",
        "        'Lira'"
      ]
    },
    {
      "cell_type": "markdown",
      "metadata": {
        "id": "sNCaidWtNUkV"
      },
      "source": [
        "- casefold() -> Transforma todas as letras em minúsculas (existe lower() mas o casefold é melhor normalmente)"
      ]
    },
    {
      "cell_type": "raw",
      "metadata": {
        "id": "u-TyLH33NUkV"
      },
      "source": [
        "    Uso: \n",
        "        texto = 'Lira'\n",
        "        print(texto.casefold())\n",
        "    Resultado: \n",
        "        'lira'"
      ]
    },
    {
      "cell_type": "markdown",
      "metadata": {
        "id": "rlafizgxNUkV"
      },
      "source": [
        "- count()\t-> Quantidade de vezes que um valor aparece na string"
      ]
    },
    {
      "cell_type": "raw",
      "metadata": {
        "id": "FHZg8fVmNUkW"
      },
      "source": [
        "    Uso:\n",
        "        texto = 'lira@yahoo.com.br'\n",
        "        print(texto.count('.'))\n",
        "    Resultado:\n",
        "        2"
      ]
    },
    {
      "cell_type": "markdown",
      "metadata": {
        "id": "AomHfj71NUkW"
      },
      "source": [
        "- endswith() -> Verifica se o texto termina com um valor específico e dá como resposta True ou False"
      ]
    },
    {
      "cell_type": "raw",
      "metadata": {
        "id": "IDEDTymyNUkX"
      },
      "source": [
        "    Uso:\n",
        "        texto = 'lira@gmail.com'\n",
        "        print(texto.endswith('gmail.com'))\n",
        "    Resultado:\n",
        "        True"
      ]
    },
    {
      "cell_type": "markdown",
      "metadata": {
        "id": "WvAXz_GsNUkX"
      },
      "source": [
        "- find() -> Procura um texto dentro de outro texto e dá como resposta a posição do texto encontrado"
      ]
    },
    {
      "cell_type": "raw",
      "metadata": {
        "id": "vsU-0NxeNUkY"
      },
      "source": [
        "    Uso:\n",
        "        texto = 'lira@gmail.com'\n",
        "        print(texto.find('@'))\n",
        "    Resultado:\n",
        "        4\n",
        "    Obs: lembrando como funciona a posição nas strings, então o @ está na posição 4\n",
        "    l i r a @ g m a i l  .  c  o  m\n",
        "    0 1 2 3 4 5 6 7 8 9 10 11 12 13"
      ]
    },
    {
      "cell_type": "markdown",
      "metadata": {
        "id": "vRAaM8-TNUkY"
      },
      "source": [
        "- format() -> Formata uma string de acordo com os valores passados. Já usamos bastante ao longo do programa."
      ]
    },
    {
      "cell_type": "raw",
      "metadata": {
        "id": "s92tJiTHNUkY"
      },
      "source": [
        "    Uso:\n",
        "        faturamento = 1000\n",
        "        print('O faturamento da loja foi de {} reais'.format(faturamento))\n",
        "    Resultado:\n",
        "        'O faturamento da loja foi de 1000 reais'"
      ]
    },
    {
      "cell_type": "markdown",
      "metadata": {
        "id": "uF1eWqfZNUkZ"
      },
      "source": [
        "- isalnum() -> Verifica se um texto é todo feito com caracteres alfanuméricos (letras e números) -> letras com acento ou ç são considerados letras para essa função."
      ]
    },
    {
      "cell_type": "raw",
      "metadata": {
        "id": "3MGUnvKxNUkZ"
      },
      "source": [
        "    Uso:\n",
        "        texto = 'João123'\n",
        "        print(texto.isalnum())\n",
        "    Resultado:\n",
        "        True\n",
        "    Obs: se o texto fosse 'Jo~ao' ou então 'Joao#' o resultado seria False "
      ]
    },
    {
      "cell_type": "markdown",
      "metadata": {
        "id": "UpKMxX4RNUkZ"
      },
      "source": [
        "- isalpha() -> Verifica se um texto é todo feito de letras."
      ]
    },
    {
      "cell_type": "raw",
      "metadata": {
        "id": "v5HpvIcaNUkZ"
      },
      "source": [
        "    Uso:\n",
        "        texto = 'João'\n",
        "        print(texto.isalpha())\n",
        "    Resultado:\n",
        "        True\n",
        "    Obs: nesse caso se o texto fosse 'Joao123' o resultado seria False, porque 123 não são letras."
      ]
    },
    {
      "cell_type": "markdown",
      "metadata": {
        "id": "qpDydvlCNUka"
      },
      "source": [
        "- isnumeric()\t-> Verifica se um texto é todo feito por números."
      ]
    },
    {
      "cell_type": "raw",
      "metadata": {
        "id": "2JHTUxSNNUka"
      },
      "source": [
        "    Uso:\n",
        "        texto = '123'\n",
        "        print(texto.isnumeric())\n",
        "    Resultado:\n",
        "        True\n",
        "    Obs: existem os métodos isdigit() e isdecimal() que tem variações pontuais em caracteres especiais tipo textos com frações e potências, mas para 99% dos casos eles não vão ser necessários."
      ]
    },
    {
      "cell_type": "markdown",
      "metadata": {
        "id": "ECV6EJUtNUka"
      },
      "source": [
        "- replace() -> Substitui um texto por um outro texto em uma string."
      ]
    },
    {
      "cell_type": "raw",
      "metadata": {
        "id": "GdGfix_-NUka"
      },
      "source": [
        "    Uso:\n",
        "        texto = '1000.00'\n",
        "        print(texto.replace('.', ','))\n",
        "    Resultado\n",
        "        '1000,00'\n",
        "    Obs: o replace precisa de 2 argumentos para funcionar. O 1º é o texto que você quer trocar. O 2º é o texto que você quer colocar no lugar daquele texto que você está tirando."
      ]
    },
    {
      "cell_type": "markdown",
      "metadata": {
        "id": "8wq2wvtONUkb"
      },
      "source": [
        "- split()\t-> Separa uma string de acordo com um delimitador em vários textos diferentes."
      ]
    },
    {
      "cell_type": "raw",
      "metadata": {
        "id": "tjzgG9-SNUkb"
      },
      "source": [
        "    Uso:\n",
        "        texto = 'lira@gmail.com'\n",
        "        print(texto.split('@'))\n",
        "    Resultado:\n",
        "        ['lira', 'gmail.com']\n"
      ]
    },
    {
      "cell_type": "markdown",
      "metadata": {
        "id": "hbuLU31VNUkb"
      },
      "source": [
        "- splitlines() -> separa um texto em vários textos de acordo com os \"enters\" do texto"
      ]
    },
    {
      "cell_type": "raw",
      "metadata": {
        "id": "IctVy-M_NUkb"
      },
      "source": [
        "    Uso:\n",
        "        texto = '''Olá, bom dia\n",
        "        Venho por meio desse e-mail lhe informar o faturamento da loja no dia de hoje.\n",
        "        Faturamento = R$2.500,00\n",
        "        '''\n",
        "        print(texto.splitlines())\n",
        "    Resultado:\n",
        "        ['Olá, bom dia', 'Venho por meio desse e-mail lhe informar o faturamento da loja no dia de hoje.', 'Faturamento = R$2.500,00']"
      ]
    },
    {
      "cell_type": "markdown",
      "metadata": {
        "id": "7cVg-guBNUkb"
      },
      "source": [
        "- startswith() -> Verifica se a string começa com determinado texto"
      ]
    },
    {
      "cell_type": "raw",
      "metadata": {
        "id": "sD3yfmwxNUkb"
      },
      "source": [
        "    Uso:\n",
        "        texto = 'BEB123453'\n",
        "        print(texto.startswith('BEB'))\n",
        "    Resultado:\n",
        "        True"
      ]
    },
    {
      "cell_type": "markdown",
      "metadata": {
        "id": "ufCz_nxPNUkb"
      },
      "source": [
        "- strip()\t-> Retira caracteres indesejados dos textos. Por padrão, retira espaços \"extras\" no início e no final"
      ]
    },
    {
      "cell_type": "raw",
      "metadata": {
        "id": "4u5XcLbFNUkc"
      },
      "source": [
        "    Uso:\n",
        "        texto = ' BEB123453 '\n",
        "        print(texto.strip())\n",
        "    Resultado:\n",
        "        'BEB123453'"
      ]
    },
    {
      "cell_type": "markdown",
      "metadata": {
        "id": "g_5KXDCxNUkc"
      },
      "source": [
        "- title() -> Coloca a 1ª letra de cada palavra em maiúscula"
      ]
    },
    {
      "cell_type": "raw",
      "metadata": {
        "id": "K3MLvLqSNUkc"
      },
      "source": [
        "    Uso:\n",
        "        texto = 'joão paulo lira'\n",
        "        print(texto.title())\n",
        "    Resultado:\n",
        "        'João Paulo Lira'"
      ]
    },
    {
      "cell_type": "markdown",
      "metadata": {
        "id": "eQaO4movNUkc"
      },
      "source": [
        "- upper()\t-> Coloca o texto todo em letra maiúscula"
      ]
    },
    {
      "cell_type": "raw",
      "metadata": {
        "id": "E-uibpd3NUkc"
      },
      "source": [
        "    Uso:\n",
        "        texto = 'beb12343'\n",
        "        print(texto.upper())\n",
        "    Resultado:\n",
        "        'BEB12343'"
      ]
    },
    {
      "cell_type": "markdown",
      "metadata": {
        "id": "_r43OsDoNUkc"
      },
      "source": [
        "## Exercitando"
      ]
    },
    {
      "cell_type": "code",
      "execution_count": null,
      "metadata": {
        "id": "GAfs3hTSNUkc",
        "outputId": "0829819b-ac62-4918-8ba1-8ec7180df7cd"
      },
      "outputs": [
        {
          "name": "stdout",
          "output_type": "stream",
          "text": [
            "Faturmento da loja foi de 1000\n"
          ]
        }
      ],
      "source": [
        "texto = '''Olá, bom dia\n",
        "        Venho por meio desse e-mail lhe informar o faturamento da loja no dia de hoje.\n",
        "        Faturamento = R$2.500,00\n",
        "        '''"
      ]
    }
  ],
  "metadata": {
    "kernelspec": {
      "display_name": "Python 3",
      "language": "python",
      "name": "python3"
    },
    "language_info": {
      "codemirror_mode": {
        "name": "ipython",
        "version": 3
      },
      "file_extension": ".py",
      "mimetype": "text/x-python",
      "name": "python",
      "nbconvert_exporter": "python",
      "pygments_lexer": "ipython3",
      "version": "3.8.3"
    },
    "colab": {
      "name": "Módulo String - Aula Fórmulas de Texto.ipynb",
      "provenance": [],
      "include_colab_link": true
    }
  },
  "nbformat": 4,
  "nbformat_minor": 0
}
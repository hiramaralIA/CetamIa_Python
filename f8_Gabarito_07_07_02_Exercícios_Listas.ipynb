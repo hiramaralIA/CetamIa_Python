{
  "cells": [
    {
      "cell_type": "markdown",
      "metadata": {
        "id": "view-in-github",
        "colab_type": "text"
      },
      "source": [
        "<a href=\"https://colab.research.google.com/github/hiramaralIA/CetamIa_Python/blob/main/f8_Gabarito_07_07_02_Exerc%C3%ADcios_Listas.ipynb\" target=\"_parent\"><img src=\"https://colab.research.google.com/assets/colab-badge.svg\" alt=\"Open In Colab\"/></a>"
      ]
    },
    {
      "cell_type": "markdown",
      "metadata": {
        "id": "7Vk1mXGdT_mO"
      },
      "source": [
        "# Exercícios\n",
        "\n",
        "## 1. Faturamento do Melhor e do Pior Mês do Ano\n",
        "\n",
        "Qual foi o valor de vendas do melhor mês do Ano?\n",
        "E valor do pior mês do ano?"
      ]
    },
    {
      "cell_type": "code",
      "execution_count": null,
      "metadata": {
        "id": "GotyOHK0T_mS",
        "outputId": "823d7138-e6fc-4e1e-80ad-3f9df20bbcf2"
      },
      "outputs": [
        {
          "name": "stdout",
          "output_type": "stream",
          "text": [
            "49051\n",
            "9650\n",
            "[25000, 29000, 22200, 17750, 15870, 19900, 19850, 20120, 17540, 15555, 49051, 9650]\n"
          ]
        }
      ],
      "source": [
        "meses = ['jan', 'fev', 'mar', 'abr', 'mai', 'jun', 'jul', 'ago', 'set', 'out', 'nov', 'dez']\n",
        "vendas_1sem = [25000, 29000, 22200, 17750, 15870, 19900]\n",
        "vendas_2sem = [19850, 20120, 17540, 15555, 49051, 9650]\n",
        "\n",
        "vendas_1sem.extend(vendas_2sem)\n",
        "maior_valor = max(vendas_1sem)\n",
        "menor_valor = min(vendas_1sem)\n",
        "print(maior_valor)\n",
        "print(menor_valor)\n",
        "print(vendas_1sem)"
      ]
    },
    {
      "cell_type": "markdown",
      "metadata": {
        "id": "FPxP4c5sT_mT"
      },
      "source": [
        "## 2. Continuação\n",
        "\n",
        "Agora relacione as duas listas para printar 'O melhor mês do ano foi {} com {} vendas' e o mesmo para o pior mês do ano.\n",
        "\n",
        "Calcule também o faturamento total do Ano e quanto que o melhor mês representou do faturamento total.\n",
        "\n",
        "Obs: Para o faturamento total, pode usar a função sum(lista) que soma todos os itens de uma lista"
      ]
    },
    {
      "cell_type": "code",
      "execution_count": null,
      "metadata": {
        "id": "9eEo5q8LT_mU",
        "outputId": "c4841f0b-67ca-4d1a-c886-724104ebc915"
      },
      "outputs": [
        {
          "name": "stdout",
          "output_type": "stream",
          "text": [
            "O melhor mês do ano foi nov com 49051 vendas\n",
            "O pior mês do ano foi dez com 9650 vendas\n",
            "Faturamento Total: R$261,486\n",
            "O melhor mês representou 18.8% das vendas do ano todo\n"
          ]
        }
      ],
      "source": [
        "i_maior_valor = vendas_1sem.index(maior_valor)\n",
        "i_menor_valor = vendas_1sem.index(menor_valor)\n",
        "\n",
        "print('O melhor mês do ano foi {} com {} vendas'.format(meses[i_maior_valor], maior_valor))\n",
        "print('O pior mês do ano foi {} com {} vendas'.format(meses[i_menor_valor], menor_valor))\n",
        "\n",
        "fat_total = sum(vendas_1sem)\n",
        "print('Faturamento Total: R${:,}'.format(fat_total))\n",
        "\n",
        "percentual = maior_valor / fat_total\n",
        "print('O melhor mês representou {:.1%} das vendas do ano todo'.format(percentual))"
      ]
    },
    {
      "cell_type": "markdown",
      "metadata": {
        "id": "nR7-lLIIT_mV"
      },
      "source": [
        "## 3. Crie uma lista com o top 3 valores de vendas do ano (sem fazer \"no olho\")\n",
        "\n",
        "Dica: o método remove retira um item da lista."
      ]
    },
    {
      "cell_type": "code",
      "execution_count": null,
      "metadata": {
        "id": "jG_OrzI_T_mV",
        "outputId": "c2739252-2eee-4147-aa9b-d191d043582d"
      },
      "outputs": [
        {
          "name": "stdout",
          "output_type": "stream",
          "text": [
            "[25000, 29000, 22200, 17750, 15870, 19900, 19850, 20120, 17540, 15555, 49051, 9650]\n",
            "[49051, 29000, 25000]\n"
          ]
        }
      ],
      "source": [
        "top3 = []\n",
        "\n",
        "print(vendas_1sem)\n",
        "maior_valor = max(vendas_1sem)\n",
        "top3.append(maior_valor)\n",
        "\n",
        "vendas_1sem.remove(maior_valor)\n",
        "\n",
        "maior_valor = max(vendas_1sem)\n",
        "top3.append(maior_valor)\n",
        "vendas_1sem.remove(maior_valor)\n",
        "maior_valor = max(vendas_1sem)\n",
        "top3.append(maior_valor)\n",
        "print(top3)"
      ]
    }
  ],
  "metadata": {
    "kernelspec": {
      "display_name": "Python 3",
      "language": "python",
      "name": "python3"
    },
    "language_info": {
      "codemirror_mode": {
        "name": "ipython",
        "version": 3
      },
      "file_extension": ".py",
      "mimetype": "text/x-python",
      "name": "python",
      "nbconvert_exporter": "python",
      "pygments_lexer": "ipython3",
      "version": "3.8.3"
    },
    "colab": {
      "name": "Gabarito - 07.07.02 Exercícios Listas.ipynb",
      "provenance": [],
      "include_colab_link": true
    }
  },
  "nbformat": 4,
  "nbformat_minor": 0
}
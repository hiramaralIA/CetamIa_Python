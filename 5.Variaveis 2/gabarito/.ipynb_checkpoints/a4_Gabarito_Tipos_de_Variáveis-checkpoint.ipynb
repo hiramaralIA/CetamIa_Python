{
 "cells": [
  {
   "cell_type": "markdown",
   "metadata": {
    "colab_type": "text",
    "id": "view-in-github"
   },
   "source": [
    "<a href=\"https://colab.research.google.com/github/hiramaralIA/CetamIa_Python/blob/main/Gabarito_Tipos_de_Vari%C3%A1veis.ipynb\" target=\"_parent\"><img src=\"https://colab.research.google.com/assets/colab-badge.svg\" alt=\"Open In Colab\"/></a>"
   ]
  },
  {
   "cell_type": "code",
   "execution_count": null,
   "metadata": {
    "id": "9vlq7cfuaIuY",
    "outputId": "62dc4ed6-701b-4245-8400-13d63b78ee58"
   },
   "outputs": [
    {
     "name": "stdout",
     "output_type": "stream",
     "text": [
      "O faturamento da loja foi 2000.O custo da loja foi 500.Assim, o lucro da loja foi de 1500\n"
     ]
    }
   ],
   "source": [
    "faturamento = 2000\n",
    "custo = 500\n",
    "lucro = faturamento - custo\n",
    "\n",
    "print('O faturamento da loja foi ' + str(faturamento) + '.O custo da loja foi ' + str(custo) + '.Assim, o lucro da loja foi de ' + str(lucro))"
   ]
  }
 ],
 "metadata": {
  "colab": {
   "include_colab_link": true,
   "name": "Gabarito Tipos de Variáveis.ipynb",
   "provenance": []
  },
  "kernelspec": {
   "display_name": "Python 3 (ipykernel)",
   "language": "python",
   "name": "python3"
  },
  "language_info": {
   "codemirror_mode": {
    "name": "ipython",
    "version": 3
   },
   "file_extension": ".py",
   "mimetype": "text/x-python",
   "name": "python",
   "nbconvert_exporter": "python",
   "pygments_lexer": "ipython3",
   "version": "3.9.7"
  }
 },
 "nbformat": 4,
 "nbformat_minor": 1
}

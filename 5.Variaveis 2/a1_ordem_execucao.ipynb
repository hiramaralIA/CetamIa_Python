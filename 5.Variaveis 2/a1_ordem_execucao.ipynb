{
 "cells": [
  {
   "cell_type": "markdown",
   "id": "0bc1b80e",
   "metadata": {},
   "source": [
    "# A ordem de execução do programa deve ser observada\n",
    "\n",
    "O código deve ser executado de cima pra baixo."
   ]
  },
  {
   "cell_type": "code",
   "execution_count": 1,
   "id": "35668adc",
   "metadata": {},
   "outputs": [
    {
     "ename": "NameError",
     "evalue": "name 'receita' is not defined",
     "output_type": "error",
     "traceback": [
      "\u001b[1;31m---------------------------------------------------------------------------\u001b[0m",
      "\u001b[1;31mNameError\u001b[0m                                 Traceback (most recent call last)",
      "\u001b[1;32m~\\AppData\\Local\\Temp/ipykernel_21516/2107760633.py\u001b[0m in \u001b[0;36m<module>\u001b[1;34m\u001b[0m\n\u001b[1;32m----> 1\u001b[1;33m \u001b[0mprint\u001b[0m\u001b[1;33m(\u001b[0m\u001b[0mreceita\u001b[0m\u001b[1;33m)\u001b[0m\u001b[1;33m\u001b[0m\u001b[1;33m\u001b[0m\u001b[0m\n\u001b[0m\u001b[0;32m      2\u001b[0m \u001b[1;33m\u001b[0m\u001b[0m\n\u001b[0;32m      3\u001b[0m \u001b[0mreceita\u001b[0m \u001b[1;33m=\u001b[0m \u001b[1;36m12000\u001b[0m\u001b[1;33m\u001b[0m\u001b[1;33m\u001b[0m\u001b[0m\n\u001b[0;32m      4\u001b[0m \u001b[1;33m\u001b[0m\u001b[0m\n",
      "\u001b[1;31mNameError\u001b[0m: name 'receita' is not defined"
     ]
    }
   ],
   "source": [
    "print(receita)\n",
    "\n",
    "receita = 12000\n",
    "\n"
   ]
  },
  {
   "cell_type": "markdown",
   "id": "cf15eb1d",
   "metadata": {},
   "source": [
    "O Erro ocorreu porque a variável receita não estava definida. Primeiro a variável deve ser definida e depois printada."
   ]
  },
  {
   "cell_type": "raw",
   "id": "3e89257b",
   "metadata": {},
   "source": [
    "O correto deve ser:"
   ]
  },
  {
   "cell_type": "code",
   "execution_count": 2,
   "id": "716225dd",
   "metadata": {},
   "outputs": [
    {
     "name": "stdout",
     "output_type": "stream",
     "text": [
      "12000\n"
     ]
    }
   ],
   "source": [
    "receita = 12000\n",
    "print(receita)\n"
   ]
  },
  {
   "cell_type": "code",
   "execution_count": 6,
   "id": "0969d542",
   "metadata": {},
   "outputs": [
    {
     "name": "stdout",
     "output_type": "stream",
     "text": [
      "7000\n"
     ]
    }
   ],
   "source": [
    "custo = 5000\n",
    "\n",
    "lucro = receita - custo\n",
    "\n",
    "print(lucro)\n",
    "\n",
    "custo = 700\n",
    "lucro = receita - custo\n"
   ]
  },
  {
   "cell_type": "code",
   "execution_count": null,
   "id": "e4cb990f",
   "metadata": {},
   "outputs": [],
   "source": []
  }
 ],
 "metadata": {
  "kernelspec": {
   "display_name": "Python 3 (ipykernel)",
   "language": "python",
   "name": "python3"
  },
  "language_info": {
   "codemirror_mode": {
    "name": "ipython",
    "version": 3
   },
   "file_extension": ".py",
   "mimetype": "text/x-python",
   "name": "python",
   "nbconvert_exporter": "python",
   "pygments_lexer": "ipython3",
   "version": "3.9.7"
  }
 },
 "nbformat": 4,
 "nbformat_minor": 5
}

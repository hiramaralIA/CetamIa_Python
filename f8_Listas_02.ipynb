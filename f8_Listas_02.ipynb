{
  "cells": [
    {
      "cell_type": "markdown",
      "metadata": {
        "id": "view-in-github",
        "colab_type": "text"
      },
      "source": [
        "<a href=\"https://colab.research.google.com/github/hiramaralIA/CetamIa_Python/blob/main/f8_Listas_02.ipynb\" target=\"_parent\"><img src=\"https://colab.research.google.com/assets/colab-badge.svg\" alt=\"Open In Colab\"/></a>"
      ]
    },
    {
      "cell_type": "markdown",
      "metadata": {
        "id": "ZPnWI2VsP3gu"
      },
      "source": [
        "# Listas em Python\n",
        "\n",
        "## Estrutura:\n",
        "\n",
        "lista = [valor, valor, valor, valor, ...]\n",
        "\n",
        "lista[i] -> é o valor de índice i da lista. <br>\n",
        "Obs: Lembre que no python o índice começa em 0, então o primeiro item de uma lista é o item lista[0]\n",
        "\n",
        "Para substituir um valor de uma lista você pode fazer:<br>\n",
        "lista[i] = novo_valor\n",
        "\n",
        "Listas de Produtos de uma Loja:"
      ]
    },
    {
      "cell_type": "code",
      "execution_count": null,
      "metadata": {
        "id": "7yGa35zUP3gy"
      },
      "outputs": [],
      "source": [
        "produtos = ['tv', 'celular', 'mouse', 'teclado', 'tablet']"
      ]
    },
    {
      "cell_type": "markdown",
      "metadata": {
        "id": "8MMZP3BLP3g0"
      },
      "source": [
        "Lista de Unidades Vendidas de cada Produto da Loja"
      ]
    },
    {
      "cell_type": "code",
      "execution_count": null,
      "metadata": {
        "id": "o4LThI8BP3g0"
      },
      "outputs": [],
      "source": [
        "vendas = [1000, 1500, 350, 270, 900]"
      ]
    },
    {
      "cell_type": "markdown",
      "metadata": {
        "id": "Zz-3w2fOP3g1"
      },
      "source": [
        "### Nesse caso, as listas funcionam da seguinte forma:"
      ]
    },
    {
      "cell_type": "raw",
      "metadata": {
        "id": "jhGLFn5SP3g1"
      },
      "source": [
        "produtos = ['tv', 'celular', 'mouse', 'teclado', 'tablet']\n",
        "              0 ,      1   ,    2   ,     3    ,     4   \n",
        "vendas = [  1000,    1500  ,   350  ,    270   ,    900  ]"
      ]
    },
    {
      "cell_type": "code",
      "execution_count": null,
      "metadata": {
        "id": "IXd7KXEmP3g1"
      },
      "outputs": [],
      "source": [
        ""
      ]
    },
    {
      "cell_type": "code",
      "execution_count": null,
      "metadata": {
        "id": "mSNq40vHP3g2"
      },
      "outputs": [],
      "source": [
        "texto = 'lira@gmail.com'"
      ]
    }
  ],
  "metadata": {
    "kernelspec": {
      "display_name": "Python 3",
      "language": "python",
      "name": "python3"
    },
    "language_info": {
      "codemirror_mode": {
        "name": "ipython",
        "version": 3
      },
      "file_extension": ".py",
      "mimetype": "text/x-python",
      "name": "python",
      "nbconvert_exporter": "python",
      "pygments_lexer": "ipython3",
      "version": "3.8.3"
    },
    "colab": {
      "name": "Listas 02.ipynb",
      "provenance": [],
      "include_colab_link": true
    }
  },
  "nbformat": 4,
  "nbformat_minor": 0
}
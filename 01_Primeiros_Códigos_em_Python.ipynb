{
  "cells": [
    {
      "cell_type": "markdown",
      "metadata": {
        "id": "view-in-github",
        "colab_type": "text"
      },
      "source": [
        "<a href=\"https://colab.research.google.com/github/hiramaralIA/CetamIa_Python/blob/main/01_Primeiros_C%C3%B3digos_em_Python.ipynb\" target=\"_parent\"><img src=\"https://colab.research.google.com/assets/colab-badge.svg\" alt=\"Open In Colab\"/></a>"
      ]
    },
    {
      "cell_type": "markdown",
      "metadata": {
        "id": "XkXMLSTQH93T"
      },
      "source": [
        "# Cartilha para Consulta - 1ºs Códigos em Python\n",
        "\n",
        "Essa cartilha é para revisão e consulta dor primeiros códigos que aprendemos. Na prática você vai acabar naturalmente decorando esses códigos a medida que formos usando mais no curso, mas essa cartilha pode te ajudar sempre que precisar."
      ]
    },
    {
      "cell_type": "markdown",
      "metadata": {
        "id": "JGqgwy4VH93X"
      },
      "source": [
        "### print(texto) -> Para \"imprimir\" (exibir) um texto ou uma variável"
      ]
    },
    {
      "cell_type": "code",
      "execution_count": 2,
      "metadata": {
        "id": "blxcNWq1H93Y",
        "outputId": "d5a26a18-a047-4126-8afc-4ac177671443",
        "colab": {
          "base_uri": "https://localhost:8080/"
        }
      },
      "outputs": [
        {
          "output_type": "stream",
          "name": "stdout",
          "text": [
            "O faturamento da loja foi de R$1.000\n"
          ]
        }
      ],
      "source": [
        "print('O faturamento da loja foi de R$1.000')"
      ]
    },
    {
      "cell_type": "markdown",
      "metadata": {
        "id": "BYUmZtFnH93Z"
      },
      "source": [
        "### Textos (strings) são sempre entre aspas"
      ]
    },
    {
      "cell_type": "raw",
      "metadata": {
        "id": "aX4J4dKPH93a"
      },
      "source": [
        "'lira@gmail.com' -> é uma string\n",
        "lira@gmail.com -> vai dar erro porque o Python acha que isso é uma variável (vamos ver como funcionam mais a frente)"
      ]
    },
    {
      "cell_type": "markdown",
      "metadata": {
        "id": "4b6En3AXH93a"
      },
      "source": [
        "### Operações Mateméticas no Python:\n",
        "\n",
        "1. Adição -> +\n",
        "2. Subtração -> -\n",
        "3. Divisão -> /\n",
        "4. Multiplicação -> *\n",
        "5. Mod (resto da divisão) -> %"
      ]
    },
    {
      "cell_type": "code",
      "execution_count": null,
      "metadata": {
        "id": "CPTDwFw_H93b",
        "outputId": "33a32965-6cfc-42b5-b21e-5584c6f97a63"
      },
      "outputs": [
        {
          "name": "stdout",
          "output_type": "stream",
          "text": [
            "8\n",
            "2\n",
            "1.6666666666666667\n",
            "15\n",
            "2\n"
          ]
        }
      ],
      "source": [
        "#adição\n",
        "print(3 + 5)\n",
        "\n",
        "#subtração\n",
        "print(5 - 3)\n",
        "\n",
        "#divisão\n",
        "print(5 / 3)\n",
        "\n",
        "#multiplicação\n",
        "print(5 * 3)\n",
        "\n",
        "#mod (resto da divisão de 5 por 3)\n",
        "print(5 % 3)"
      ]
    },
    {
      "cell_type": "markdown",
      "metadata": {
        "id": "1Y78kuc0H93c"
      },
      "source": [
        "### Operações Básicas com String\n",
        "\n",
        "1. Concatenar -> +\n",
        "2. Verificar se um texto está contido dentro do outro -> in"
      ]
    },
    {
      "cell_type": "code",
      "execution_count": null,
      "metadata": {
        "id": "7nk-G0FaH93c",
        "outputId": "7bc273d6-e7ba-4016-8751-bbb44eebe6a8"
      },
      "outputs": [
        {
          "name": "stdout",
          "output_type": "stream",
          "text": [
            "O faturamento da loja foi 1000\n",
            "True\n"
          ]
        }
      ],
      "source": [
        "#Concatenar\n",
        "print('O faturamento da loja foi ' + '1000')\n",
        "\n",
        "#Verificar se um texto está dentro do outro\n",
        "print('@' in 'lira@gmail.com')"
      ]
    },
    {
      "cell_type": "markdown",
      "metadata": {
        "id": "LZdZtEpkH93d"
      },
      "source": [
        "### Variável\n",
        "\n",
        "variavel = valor"
      ]
    },
    {
      "cell_type": "code",
      "execution_count": null,
      "metadata": {
        "id": "Q_UzZ6umH93e",
        "outputId": "4ec1c4b6-27ec-4545-8b68-a695c978f721"
      },
      "outputs": [
        {
          "name": "stdout",
          "output_type": "stream",
          "text": [
            "1500\n",
            "700\n"
          ]
        }
      ],
      "source": [
        "faturamento = 1500\n",
        "custo = 800\n",
        "lucro = faturamento - custo \n",
        "print(faturamento)\n",
        "print(lucro)"
      ]
    },
    {
      "cell_type": "markdown",
      "metadata": {
        "id": "0p4zebm8H93e"
      },
      "source": [
        "### Pegar informações do Usuário\n",
        "\n",
        "variavel = input('Texto para o Usuário')"
      ]
    },
    {
      "cell_type": "code",
      "execution_count": null,
      "metadata": {
        "id": "qABIL-hIH93e",
        "outputId": "b87fba52-1180-4d37-ad8b-af78776d749a"
      },
      "outputs": [
        {
          "name": "stdout",
          "output_type": "stream",
          "text": [
            "Digite seu cpf (apenas números, sem pontos e traços)15288699725\n",
            "O cpf do cliente é 15288699725\n"
          ]
        }
      ],
      "source": [
        "#para cadastrar um cliente\n",
        "cpf = input('Digite seu cpf (apenas números, sem pontos e traços)')\n",
        "print('O cpf do cliente é ' + cpf)"
      ]
    }
  ],
  "metadata": {
    "kernelspec": {
      "display_name": "Python 3",
      "language": "python",
      "name": "python3"
    },
    "language_info": {
      "codemirror_mode": {
        "name": "ipython",
        "version": 3
      },
      "file_extension": ".py",
      "mimetype": "text/x-python",
      "name": "python",
      "nbconvert_exporter": "python",
      "pygments_lexer": "ipython3",
      "version": "3.8.3"
    },
    "colab": {
      "name": "Cópia de Cartilha - Primeiros Códigos em Python.ipynb",
      "provenance": [],
      "include_colab_link": true
    }
  },
  "nbformat": 4,
  "nbformat_minor": 0
}
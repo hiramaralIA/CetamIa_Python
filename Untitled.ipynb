{
 "cells": [
  {
   "cell_type": "markdown",
   "id": "86c5d922",
   "metadata": {},
   "source": [
    "# Trabalha com variáveis\n",
    "Nome dado para algum valor especifico:\n",
    "\n",
    "SE precisarmos registrar a quantidade de vendas do mês de determinada empresa, e depois calcular o faturamento total. "
   ]
  },
  {
   "cell_type": "code",
   "execution_count": 2,
   "id": "483f9ce4",
   "metadata": {},
   "outputs": [
    {
     "name": "stdout",
     "output_type": "stream",
     "text": [
      "21500\n"
     ]
    }
   ],
   "source": [
    "qte_vendida = 21500\n",
    "\n",
    "print(qte_vendida)"
   ]
  },
  {
   "cell_type": "code",
   "execution_count": 3,
   "id": "1d6502ad",
   "metadata": {},
   "outputs": [
    {
     "name": "stdout",
     "output_type": "stream",
     "text": [
      "9500\n"
     ]
    }
   ],
   "source": [
    "qte_vendida = 9500\n",
    "\n",
    "print(qte_vendida)"
   ]
  },
  {
   "cell_type": "code",
   "execution_count": 4,
   "id": "097bbb7d",
   "metadata": {},
   "outputs": [
    {
     "data": {
      "text/plain": [
       "9500"
      ]
     },
     "execution_count": 4,
     "metadata": {},
     "output_type": "execute_result"
    }
   ],
   "source": [
    "qte_vendida"
   ]
  },
  {
   "cell_type": "code",
   "execution_count": 7,
   "id": "aaec7413",
   "metadata": {},
   "outputs": [
    {
     "name": "stdout",
     "output_type": "stream",
     "text": [
      "Hiram\n",
      "9500\n"
     ]
    }
   ],
   "source": [
    "nome = \"Hiram\"\n",
    "print(nome)\n",
    "print(qte_vendida)"
   ]
  },
  {
   "cell_type": "code",
   "execution_count": 10,
   "id": "72909599",
   "metadata": {},
   "outputs": [
    {
     "name": "stdout",
     "output_type": "stream",
     "text": [
      "Hiram vendeu  9500 este mês\n"
     ]
    }
   ],
   "source": [
    "print (\"Hiram vendeu \", qte_vendida, \"este mês\")"
   ]
  },
  {
   "cell_type": "markdown",
   "id": "558a5874",
   "metadata": {},
   "source": [
    "# Erro com variáveis\n",
    "célula não executada"
   ]
  },
  {
   "cell_type": "code",
   "execution_count": null,
   "id": "a02a5581",
   "metadata": {},
   "outputs": [],
   "source": [
    "receita = 2500\n",
    "custo = 100"
   ]
  },
  {
   "cell_type": "code",
   "execution_count": 11,
   "id": "5cccfd2b",
   "metadata": {},
   "outputs": [
    {
     "ename": "NameError",
     "evalue": "name 'faturamento' is not defined",
     "output_type": "error",
     "traceback": [
      "\u001b[1;31m---------------------------------------------------------------------------\u001b[0m",
      "\u001b[1;31mNameError\u001b[0m                                 Traceback (most recent call last)",
      "\u001b[1;32m~\\AppData\\Local\\Temp/ipykernel_19904/1178675219.py\u001b[0m in \u001b[0;36m<module>\u001b[1;34m\u001b[0m\n\u001b[1;32m----> 1\u001b[1;33m \u001b[0mlucro\u001b[0m \u001b[1;33m=\u001b[0m \u001b[0mfaturamento\u001b[0m \u001b[1;33m-\u001b[0m \u001b[0mcusto\u001b[0m\u001b[1;33m\u001b[0m\u001b[1;33m\u001b[0m\u001b[0m\n\u001b[0m\u001b[0;32m      2\u001b[0m \u001b[0mprint\u001b[0m\u001b[1;33m(\u001b[0m\u001b[0mlucro\u001b[0m\u001b[1;33m)\u001b[0m\u001b[1;33m\u001b[0m\u001b[1;33m\u001b[0m\u001b[0m\n",
      "\u001b[1;31mNameError\u001b[0m: name 'faturamento' is not defined"
     ]
    }
   ],
   "source": [
    "lucro = faturamento - custo\n",
    "print(lucro)"
   ]
  },
  {
   "cell_type": "code",
   "execution_count": 15,
   "id": "1bd67021",
   "metadata": {},
   "outputs": [],
   "source": [
    "receita = 2500\n",
    "custo = 2900"
   ]
  },
  {
   "cell_type": "code",
   "execution_count": 17,
   "id": "f0ecf550",
   "metadata": {},
   "outputs": [
    {
     "name": "stdout",
     "output_type": "stream",
     "text": [
      "-400\n"
     ]
    }
   ],
   "source": [
    "lucro = receita-custo\n",
    "print(lucro)"
   ]
  },
  {
   "cell_type": "markdown",
   "id": "f283aeff",
   "metadata": {},
   "source": [
    "# Pegando informações do usuário\n",
    "usando o input e armazenando na memoria"
   ]
  },
  {
   "cell_type": "code",
   "execution_count": null,
   "id": "5cacffe9",
   "metadata": {},
   "outputs": [],
   "source": [
    "nome = input(\" Qual o nome de sua escola?\")\n",
    "print(nome)"
   ]
  },
  {
   "cell_type": "code",
   "execution_count": null,
   "id": "2e0324a9",
   "metadata": {},
   "outputs": [],
   "source": []
  }
 ],
 "metadata": {
  "kernelspec": {
   "display_name": "Python 3 (ipykernel)",
   "language": "python",
   "name": "python3"
  },
  "language_info": {
   "codemirror_mode": {
    "name": "ipython",
    "version": 3
   },
   "file_extension": ".py",
   "mimetype": "text/x-python",
   "name": "python",
   "nbconvert_exporter": "python",
   "pygments_lexer": "ipython3",
   "version": "3.9.7"
  }
 },
 "nbformat": 4,
 "nbformat_minor": 5
}

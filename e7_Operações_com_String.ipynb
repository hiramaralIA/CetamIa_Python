{
  "cells": [
    {
      "cell_type": "markdown",
      "metadata": {
        "id": "view-in-github",
        "colab_type": "text"
      },
      "source": [
        "<a href=\"https://colab.research.google.com/github/hiramaralIA/CetamIa_Python/blob/main/e7_Opera%C3%A7%C3%B5es_com_String.ipynb\" target=\"_parent\"><img src=\"https://colab.research.google.com/assets/colab-badge.svg\" alt=\"Open In Colab\"/></a>"
      ]
    },
    {
      "cell_type": "markdown",
      "metadata": {
        "id": "qcMq6nuQLQ1t"
      },
      "source": [
        "# Operações com String\n",
        "\n",
        "str -> transforma número em string<br>\n",
        "in -> verifica se um texto está contido dentro do outro<br>\n",
        "operador + -> concatenar string<br>\n",
        "format e {} -> substitui valores<br>\n",
        "%s -> substitui textos<br>\n",
        "%d -> substitui números decimais<br>\n",
        "\n",
        "Vamos deixar uma cartilha para download"
      ]
    },
    {
      "cell_type": "code",
      "execution_count": null,
      "metadata": {
        "id": "kIsUggn5LQ1w"
      },
      "outputs": [],
      "source": [
        "faturamento = 1000\n",
        "custo = 500\n",
        "lucro = faturamento - custo"
      ]
    },
    {
      "cell_type": "markdown",
      "metadata": {
        "id": "IdPRX_H4LQ1x"
      },
      "source": [
        "Uso do str() e do concatenar com +"
      ]
    },
    {
      "cell_type": "code",
      "execution_count": null,
      "metadata": {
        "id": "Mke-dGHRLQ1y"
      },
      "outputs": [],
      "source": [
        "print ('O faturamento da loja foi de: ' + faturamento)"
      ]
    },
    {
      "cell_type": "markdown",
      "metadata": {
        "id": "KM-Eon6WLQ1y"
      },
      "source": [
        "Uso do Format"
      ]
    },
    {
      "cell_type": "code",
      "execution_count": null,
      "metadata": {
        "id": "ZfLxW6PMLQ1z"
      },
      "outputs": [],
      "source": [
        "print('O faturamento foi de: ')"
      ]
    },
    {
      "cell_type": "markdown",
      "metadata": {
        "id": "ps5QNIg6LQ1z"
      },
      "source": [
        "Uso do %s e %d"
      ]
    },
    {
      "cell_type": "code",
      "execution_count": null,
      "metadata": {
        "id": "XyaVFQllLQ1z"
      },
      "outputs": [],
      "source": [
        "print ('O faturamento foi de: ')"
      ]
    },
    {
      "cell_type": "markdown",
      "metadata": {
        "id": "97I3scELLQ10"
      },
      "source": [
        "Uso do in (mais exercícios práticos nas próximas aulas)"
      ]
    },
    {
      "cell_type": "code",
      "execution_count": null,
      "metadata": {
        "id": "n_LQTC-6LQ10"
      },
      "outputs": [],
      "source": [
        "print('@' in 'lira@gmail.com')\n",
        "print('@' in 'lira.gmail.com')"
      ]
    }
  ],
  "metadata": {
    "kernelspec": {
      "display_name": "Python 3",
      "language": "python",
      "name": "python3"
    },
    "language_info": {
      "codemirror_mode": {
        "name": "ipython",
        "version": 3
      },
      "file_extension": ".py",
      "mimetype": "text/x-python",
      "name": "python",
      "nbconvert_exporter": "python",
      "pygments_lexer": "ipython3",
      "version": "3.8.3"
    },
    "colab": {
      "name": "Operações com String.ipynb",
      "provenance": [],
      "include_colab_link": true
    }
  },
  "nbformat": 4,
  "nbformat_minor": 0
}
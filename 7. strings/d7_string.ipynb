{
 "cells": [
  {
   "cell_type": "markdown",
   "id": "1e9a4a50",
   "metadata": {},
   "source": [
    "# Strings - saber trabalhar com strings ajuda a organizar o código"
   ]
  },
  {
   "cell_type": "code",
   "execution_count": null,
   "id": "a7c49b4a",
   "metadata": {},
   "outputs": [],
   "source": [
    "texto = \"Hiram\""
   ]
  },
  {
   "cell_type": "markdown",
   "id": "ecc4fb15",
   "metadata": {},
   "source": [
    "O Python vê o texto Hiram como uma lista: H-i-r-a-m"
   ]
  },
  {
   "cell_type": "markdown",
   "id": "d5146a8d",
   "metadata": {},
   "source": [
    "'0 1 2 3 4 5 6 7 8 9 10 11 12 13 14 15 16 17 18'<br>\n",
    "'h i r a m a r a l @ g  m  a  i  l  .  c  o  m'\n",
    "\n",
    "Pegar um item de uam string: texto[índice] <br>\n",
    "Pegar o tamanho de um texto: len(texto)\n",
    "    "
   ]
  },
  {
   "cell_type": "markdown",
   "id": "bb21978a",
   "metadata": {},
   "source": [
    "# Índice e tamanho"
   ]
  },
  {
   "cell_type": "code",
   "execution_count": 7,
   "id": "5c37ac82",
   "metadata": {},
   "outputs": [
    {
     "name": "stdout",
     "output_type": "stream",
     "text": [
      "12\n",
      "19\n",
      "a\n",
      "a\n"
     ]
    }
   ],
   "source": [
    "email = \"hiramaral@gmail.com\"\n",
    "nome = \"Hiram Amaral\"\n",
    "print(len(nome))\n",
    "print(len(email))\n",
    "\n",
    "print(email[3])\n",
    "\n",
    "print(nome[8])"
   ]
  },
  {
   "cell_type": "markdown",
   "id": "4d2daf5e",
   "metadata": {},
   "source": [
    "# Índice negativo"
   ]
  },
  {
   "cell_type": "code",
   "execution_count": null,
   "id": "a4f19e40",
   "metadata": {},
   "outputs": [],
   "source": []
  }
 ],
 "metadata": {
  "kernelspec": {
   "display_name": "Python 3 (ipykernel)",
   "language": "python",
   "name": "python3"
  },
  "language_info": {
   "codemirror_mode": {
    "name": "ipython",
    "version": 3
   },
   "file_extension": ".py",
   "mimetype": "text/x-python",
   "name": "python",
   "nbconvert_exporter": "python",
   "pygments_lexer": "ipython3",
   "version": "3.9.7"
  }
 },
 "nbformat": 4,
 "nbformat_minor": 5
}

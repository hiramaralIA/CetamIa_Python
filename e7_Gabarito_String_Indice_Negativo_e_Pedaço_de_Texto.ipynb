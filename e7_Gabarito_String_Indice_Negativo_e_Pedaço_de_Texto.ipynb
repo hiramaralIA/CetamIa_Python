{
  "nbformat": 4,
  "nbformat_minor": 0,
  "metadata": {
    "kernelspec": {
      "display_name": "Python 3",
      "language": "python",
      "name": "python3"
    },
    "language_info": {
      "codemirror_mode": {
        "name": "ipython",
        "version": 3
      },
      "file_extension": ".py",
      "mimetype": "text/x-python",
      "name": "python",
      "nbconvert_exporter": "python",
      "pygments_lexer": "ipython3",
      "version": "3.8.3"
    },
    "colab": {
      "name": "Gabarito - String Indice Negativo e Pedaço de Texto.ipynb",
      "provenance": [],
      "include_colab_link": true
    }
  },
  "cells": [
    {
      "cell_type": "markdown",
      "metadata": {
        "id": "view-in-github",
        "colab_type": "text"
      },
      "source": [
        "<a href=\"https://colab.research.google.com/github/hiramaralIA/CetamIa_Python/blob/main/e7_Gabarito_String_Indice_Negativo_e_Peda%C3%A7o_de_Texto.ipynb\" target=\"_parent\"><img src=\"https://colab.research.google.com/assets/colab-badge.svg\" alt=\"Open In Colab\"/></a>"
      ]
    },
    {
      "cell_type": "raw",
      "metadata": {
        "id": "9T5Xdhr7gWqi"
      },
      "source": [
        "Texto: lira@gmail.com\n",
        "\n",
        "-14 -13 -12 -11 -10 -9 -8 -7 -6 -5 -4 -3 -2 -1\n",
        "  l   i   r   a   @  g  m  a  i  l  .  c  o  m\n",
        "  0   1   2   3   4  5  6  7  8  9 10 11 12 13\n",
        "  \n",
        "Para pegar um texto de trás para frente: texto[índice] -> onde índice é negativo\n",
        "Para pegar o pedaço de um texto use : (dois pontos). texto[:indice] ou texto[indice:] ou ainda texto[indice:indice]"
      ]
    },
    {
      "cell_type": "code",
      "metadata": {
        "id": "uxTL_vXDgWqs",
        "outputId": "4d0e819d-70d9-4e32-a521-35501c4a6e28"
      },
      "source": [
        "email = 'lira@gmail.com'\n",
        "nome = 'João Paulo Lira'\n",
        "\n",
        "print(email[5:8])"
      ],
      "execution_count": null,
      "outputs": [
        {
          "name": "stdout",
          "output_type": "stream",
          "text": [
            "gma\n"
          ]
        }
      ]
    },
    {
      "cell_type": "markdown",
      "metadata": {
        "id": "rbeFdLVggWrR"
      },
      "source": [
        "Exercícios para Fixação:\n",
        "Basta completar os prints de forma correta"
      ]
    },
    {
      "cell_type": "code",
      "metadata": {
        "id": "AEqNo5X7gWrX",
        "outputId": "ce9e5b61-e8a8-4570-e650-d96302cb13d2"
      },
      "source": [
        "print('Tamanho do e-mail ' + str(len(email)) + ' caracteres')\n",
        "print('Primeiro Caractere ' + email[0])\n",
        "print('Último Caractere ' + email[-1])\n",
        "print('Servidor do email ' + email[5:10])"
      ],
      "execution_count": null,
      "outputs": [
        {
          "name": "stdout",
          "output_type": "stream",
          "text": [
            "Tamanho do e-mail 14 caracteres\n",
            "Primeiro Caractere l\n",
            "Último Caractere m\n",
            "Servidor do email gmail\n"
          ]
        }
      ]
    }
  ]
}
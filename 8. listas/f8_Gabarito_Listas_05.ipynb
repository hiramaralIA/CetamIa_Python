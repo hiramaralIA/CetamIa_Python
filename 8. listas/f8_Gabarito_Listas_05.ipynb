{
  "cells": [
    {
      "cell_type": "markdown",
      "metadata": {
        "id": "view-in-github",
        "colab_type": "text"
      },
      "source": [
        "<a href=\"https://colab.research.google.com/github/hiramaralIA/CetamIa_Python/blob/main/f8_Gabarito_Listas_05.ipynb\" target=\"_parent\"><img src=\"https://colab.research.google.com/assets/colab-badge.svg\" alt=\"Open In Colab\"/></a>"
      ]
    },
    {
      "cell_type": "markdown",
      "metadata": {
        "id": "tEV72uUaRgjN"
      },
      "source": [
        "# Algumas Funções Básicas de Lista\n",
        "\n",
        "## Tamanho da Lista\n",
        "\n",
        "tamanho = len(lista)"
      ]
    },
    {
      "cell_type": "code",
      "execution_count": null,
      "metadata": {
        "id": "wTOb3cr1RgjQ"
      },
      "outputs": [],
      "source": [
        "produtos = ['apple tv', 'mac', 'iphone x', 'IPad', 'apple watch', 'mac book', 'airpods']"
      ]
    },
    {
      "cell_type": "markdown",
      "metadata": {
        "id": "B9nq5W2LRgjS"
      },
      "source": [
        "- Quantos produtos temos a venda?"
      ]
    },
    {
      "cell_type": "code",
      "execution_count": null,
      "metadata": {
        "id": "5sAz8fOwRgjS",
        "outputId": "00b27a59-bfb8-49ab-d8a7-61eb46e7e8f7"
      },
      "outputs": [
        {
          "name": "stdout",
          "output_type": "stream",
          "text": [
            "Temos 7 produtos\n"
          ]
        }
      ],
      "source": [
        "tamanho = len(produtos)\n",
        "print('Temos {} produtos'.format(tamanho))"
      ]
    },
    {
      "cell_type": "markdown",
      "metadata": {
        "id": "0a40o441RgjT"
      },
      "source": [
        "## Maior e Menor Valor\n",
        "\n",
        "maior = max(lista)\n",
        "\n",
        "menor = min(lista)"
      ]
    },
    {
      "cell_type": "code",
      "execution_count": null,
      "metadata": {
        "id": "NcFaNER9RgjU"
      },
      "outputs": [],
      "source": [
        "vendas = [1000, 1500, 15000, 270, 900, 100, 1200]"
      ]
    },
    {
      "cell_type": "markdown",
      "metadata": {
        "id": "41pPAhmNRgjU"
      },
      "source": [
        "- Qual o item mais vendido?\n",
        "- Qual o item menos vendido?"
      ]
    },
    {
      "cell_type": "code",
      "execution_count": null,
      "metadata": {
        "id": "t2fOULyRRgjV",
        "outputId": "c9ee8765-d165-4616-b5e1-43c6409c5563"
      },
      "outputs": [
        {
          "name": "stdout",
          "output_type": "stream",
          "text": [
            "O produto mais vendido teve 15000 unidades vendidas e o menos vendido teve 100 unidades vendidas\n"
          ]
        }
      ],
      "source": [
        "mais_vendido = max(vendas)\n",
        "menos_vendido = min(vendas)\n",
        "print('O produto mais vendido teve {} unidades vendidas e o menos vendido teve {} unidades vendidas'.format(mais_vendido, menos_vendido))"
      ]
    },
    {
      "cell_type": "code",
      "execution_count": null,
      "metadata": {
        "id": "o_U_XWsNRgjW",
        "outputId": "92e34e05-4427-4a86-e193-b59fc03181ce"
      },
      "outputs": [
        {
          "name": "stdout",
          "output_type": "stream",
          "text": [
            "iphone x\n",
            "mac book\n"
          ]
        }
      ],
      "source": [
        "i = vendas.index(mais_vendido)\n",
        "produto_mais_vendido = produtos[i]\n",
        "\n",
        "print(produto_mais_vendido)\n",
        "\n",
        "i = vendas.index(menos_vendido)\n",
        "produto_menos_vendido = produtos[i]\n",
        "\n",
        "print(produto_menos_vendido)"
      ]
    }
  ],
  "metadata": {
    "kernelspec": {
      "display_name": "Python 3",
      "language": "python",
      "name": "python3"
    },
    "language_info": {
      "codemirror_mode": {
        "name": "ipython",
        "version": 3
      },
      "file_extension": ".py",
      "mimetype": "text/x-python",
      "name": "python",
      "nbconvert_exporter": "python",
      "pygments_lexer": "ipython3",
      "version": "3.8.3"
    },
    "colab": {
      "name": "Gabarito - Listas 05.ipynb",
      "provenance": [],
      "include_colab_link": true
    }
  },
  "nbformat": 4,
  "nbformat_minor": 0
}